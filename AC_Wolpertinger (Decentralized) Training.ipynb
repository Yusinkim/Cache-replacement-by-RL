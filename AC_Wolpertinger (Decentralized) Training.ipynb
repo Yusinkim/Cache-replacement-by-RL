{
 "cells": [
  {
   "cell_type": "code",
   "execution_count": 1,
   "metadata": {},
   "outputs": [],
   "source": [
    "import numpy as np\n",
    "import tensorflow as tf\n",
    "from tensorflow.keras.layers import Dense\n",
    "from collections import deque\n",
    "import matplotlib.pyplot as plt\n",
    "from Grouping import *\n",
    "import warnings\n",
    "warnings.filterwarnings(action='ignore')"
   ]
  },
  {
   "cell_type": "markdown",
   "metadata": {},
   "source": [
    "# RL (Wolpertinger)"
   ]
  },
  {
   "cell_type": "code",
   "execution_count": 2,
   "metadata": {},
   "outputs": [],
   "source": [
    "def RL_Caching(M, N, num_of_video, num_of_client, cache_size, s_len, l_len, K, zipf_param):\n",
    "    def zipf(VN, P, n):\n",
    "        return np.random.choice(VN, n, False, P)\n",
    "\n",
    "    class A2C_Agent:\n",
    "        def __init__(self, state_size, action_size, batch_size):\n",
    "            global advantages\n",
    "            self.state_size = state_size\n",
    "            self.action_size = action_size\n",
    "            self.value_size = 1\n",
    "            self.batch_size = batch_size\n",
    "            advantages = np.zeros((self.batch_size, self.action_size))\n",
    "\n",
    "            self.discount_factor = 0.9\n",
    "            self.actor_lr = 0.001\n",
    "            self.critic_lr = 0.01\n",
    "\n",
    "            self.main_actor = self.build_actor()\n",
    "            self.target_actor = self.build_actor()\n",
    "            self.target_actor.set_weights(self.main_actor.get_weights())\n",
    "            self.main_critic = self.build_critic()\n",
    "            self.target_critic = self.build_critic()\n",
    "            self.target_critic.set_weights(self.main_critic.get_weights())\n",
    "\n",
    "        def score_func_loss(self, Y, action_pred):\n",
    "            global advantages\n",
    "            log_lik = -Y * tf.math.log(action_pred)\n",
    "            log_lik_adv = log_lik * advantages\n",
    "            loss = tf.reduce_mean(tf.reduce_sum(log_lik_adv, axis=1))\n",
    "            return loss\n",
    "\n",
    "        def build_actor(self):\n",
    "            actor = tf.keras.models.Sequential()\n",
    "            actor.add(Dense(self.state_size, input_dim=self.state_size, activation='relu',kernel_initializer='he_uniform'))\n",
    "            actor.add(Dense(self.action_size, activation='softmax',kernel_initializer='he_uniform'))\n",
    "            actor.compile(loss=self.score_func_loss, optimizer=tf.keras.optimizers.Adam(lr=self.actor_lr))\n",
    "            return actor\n",
    "\n",
    "        def build_critic(self):\n",
    "            critic = tf.keras.models.Sequential()\n",
    "            critic.add(Dense(self.state_size, input_dim=self.state_size, activation='relu',kernel_initializer='he_uniform'))\n",
    "            critic.add(Dense(self.value_size, activation='linear',kernel_initializer='he_uniform'))\n",
    "            critic.compile(loss=\"mse\", optimizer=tf.keras.optimizers.Adam(lr=self.critic_lr))\n",
    "            return critic\n",
    "\n",
    "        def train_model(self, state_batch, reward_batch, target_train):\n",
    "            global advantages\n",
    "            states = np.vstack([x[0] for x in state_batch])\n",
    "            actions = np.array([x[1] for x in state_batch])\n",
    "            next_states = np.vstack([x[2] for x in state_batch])\n",
    "            rewards = np.vstack([x for x in reward_batch])\n",
    "\n",
    "            target = np.zeros((self.batch_size, self.value_size))\n",
    "            advantages = np.zeros((self.batch_size, self.action_size))\n",
    "\n",
    "            value = self.main_critic.predict(states)\n",
    "            next_value = self.target_critic.predict(next_states)\n",
    "\n",
    "            target = rewards + self.discount_factor * next_value\n",
    "            advantages[range(self.batch_size), actions] = np.reshape(target - value, self.batch_size)\n",
    "\n",
    "            self.main_actor.fit(states, advantages, epochs=1, verbose=0)\n",
    "            self.main_critic.fit(states, target, epochs=1, verbose=0)\n",
    "\n",
    "            if target_train:\n",
    "                self.target_actor.set_weights(self.main_actor.get_weights())\n",
    "                self.target_critic.set_weights(self.main_critic.get_weights())\n",
    "\n",
    "    class cache_env:\n",
    "        def __init__(self, VN, cs, s_len, l_len, K, a=1):\n",
    "            self.VN = VN\n",
    "            self.cs = cs\n",
    "            self.K = K\n",
    "            self.s_len = s_len\n",
    "            self.l_len = l_len\n",
    "            self.s_buffer = []\n",
    "            self.l_buffer = []\n",
    "            self.s_cnt = np.zeros(VN)\n",
    "            self.l_cnt = np.zeros(VN)\n",
    "            self.a = a\n",
    "            self.P = np.array([1/(i**self.a) for i in range(1, self.VN+1)])\n",
    "            self.P /= sum(self.P)\n",
    "            np.random.shuffle(self.P)\n",
    "            self.state = []\n",
    "            self.rq = zipf(self.VN, self.P, 1)\n",
    "            self.count()\n",
    "\n",
    "        def step(self, a):\n",
    "            rq = list(self.rq)\n",
    "            prev_state = np.hstack((self.s_cnt[rq + self.state], self.l_cnt[rq + self.state]))\n",
    "            states = None\n",
    "            if a == 'pass':\n",
    "                pass\n",
    "            elif a == 'append':\n",
    "                self.state.append(self.rq[0])\n",
    "            else:\n",
    "                states = [copy.deepcopy(self.state) for _ in range(K)]\n",
    "                for i in range(K):\n",
    "                    if a[i] == 0:\n",
    "                        continue\n",
    "                    states[i].remove(states[i][a[i]-1])\n",
    "                    states[i].append(self.rq[0])\n",
    "            self.rq = zipf(self.VN, self.P, 1)\n",
    "            self.count()\n",
    "            return prev_state, states\n",
    "        \n",
    "        def count(self):\n",
    "            if sum(self.s_cnt) == self.s_len:\n",
    "                self.s_cnt[self.s_buffer[0]] -= 1\n",
    "                self.s_buffer = self.s_buffer[1:]\n",
    "            self.s_cnt[self.rq] += 1\n",
    "            self.s_buffer.append(self.rq[0])\n",
    "            if sum(self.l_cnt) == self.l_len:\n",
    "                self.l_cnt[self.l_buffer[0]] -= 1\n",
    "                self.l_buffer = self.l_buffer[1:]\n",
    "            self.l_cnt[self.rq] += 1\n",
    "            self.l_buffer.append(self.rq[0])\n",
    "            \n",
    "\n",
    "    state_size = 2 * (cache_size + 1)\n",
    "    action_size = cache_size + 1\n",
    "    target_update_fre = 10\n",
    "    \n",
    "    memory_size = 50\n",
    "    state_memory = [deque(maxlen = memory_size) for _ in range(num_of_client)]\n",
    "    reward_memory = [deque(maxlen = memory_size) for _ in range(num_of_client)]\n",
    "    batch_size = 10\n",
    "\n",
    "    reward_list = []\n",
    "    \n",
    "    with tf.Graph().as_default():\n",
    "        Agents = [A2C_Agent(state_size, action_size, batch_size) for _ in range(num_of_client)]\n",
    "        cache = [cache_env(num_of_video, cache_size, s_len, l_len, K, zipf_param) for _ in range(num_of_client)]\n",
    "        for i in range(N):\n",
    "            Train = np.zeros(num_of_client)\n",
    "            for n in range(num_of_client):\n",
    "                if np.random.rand() < ch_p:\n",
    "                    new_P = np.array([1/(i**cache[n].a) for i in range(1, cache[n].VN+1)])\n",
    "                    new_P /= sum(new_P)\n",
    "                    np.random.shuffle(new_P)\n",
    "                    cache[n].P = rho * cache[n].P + (1-rho) * new_P\n",
    "                    \n",
    "                if cache[n].rq in cache[n].state:\n",
    "                    prev_state = cache[n].step('pass')\n",
    "                elif len(cache[n].state) < cache[n].cs:\n",
    "                    prev_state = cache[n].step('append')\n",
    "                else:\n",
    "                    Train[n] = 1\n",
    "                    rq = list(cache[n].rq)\n",
    "                    state = np.hstack((cache[n].s_cnt[rq + cache[n].state], cache[n].l_cnt[rq + cache[n].state]))\n",
    "\n",
    "                    pred = Agents[n].main_actor.predict(np.array([state]))[0]\n",
    "                    a_list = np.random.choice(action_size, K, False, p = pred)\n",
    "\n",
    "                    prev_state, states = cache[n].step(a_list)\n",
    "                    rq = list(cache[n].rq)\n",
    "                    state_list = [np.hstack((cache[n].s_cnt[rq + states[i]], cache[n].l_cnt[rq + states[i]])) for i in range(K)]\n",
    "                    critics = Agents[n].main_critic.predict(np.vstack(state_list))\n",
    "                    idx = np.where(critics == max(critics))[0][0]\n",
    "                    a = a_list[idx]\n",
    "                    cache[n].state = states[idx]\n",
    "                    \n",
    "                    state = state_list[idx]\n",
    "                    state_memory[n].append((prev_state, a, state))\n",
    "\n",
    "            rqs = np.array([cache[i].rq for i in range(num_of_client)])\n",
    "            caches = [cache[i].state for i in range(num_of_client)]\n",
    "            cn, rq, ch = Local(rqs, caches)\n",
    "            cn, rq, ch = BCG(list(range(num_of_video)), cn, rq, ch)\n",
    "            cn, rq, ch = XBCG(list(range(num_of_video)), cn, rq, ch)\n",
    "            connection = len(cn)\n",
    "            reward = np.zeros(num_of_client)\n",
    "            local = np.ones(num_of_client)\n",
    "            for c in cn:\n",
    "                if len(c) > 1:\n",
    "                    for i in c:\n",
    "                        reward[i] = 0.5\n",
    "                        local[i] = 0\n",
    "                else:\n",
    "                    local[c[0]] = 0\n",
    "            reward = reward + local\n",
    "            \n",
    "            reward_list.append(sum(reward)/num_of_client)\n",
    "            \n",
    "            for n in range(num_of_client):\n",
    "                if Train[n]:\n",
    "                    reward_memory[n].append(reward[n])\n",
    "                    if len(reward_memory[n]) >= batch_size:\n",
    "                        batch = np.random.choice(len(reward_memory[n]), min(len(reward_memory[n]), batch_size), False)\n",
    "                        state_batch = np.array(state_memory[n])[batch]\n",
    "                        reward_batch = np.array(reward_memory[n])[batch]\n",
    "                        Agents[n].train_model(state_batch, reward_batch, (i+1) % target_update_fre == 0)\n",
    "            \n",
    "    return reward_list"
   ]
  },
  {
   "cell_type": "markdown",
   "metadata": {},
   "source": [
    "# Graph"
   ]
  },
  {
   "cell_type": "code",
   "execution_count": 3,
   "metadata": {},
   "outputs": [
    {
     "name": "stdout",
     "output_type": "stream",
     "text": [
      "WARNING:tensorflow:From C:\\Users\\user\\Anaconda3\\lib\\site-packages\\tensorflow_core\\python\\ops\\resource_variable_ops.py:1635: calling BaseResourceVariable.__init__ (from tensorflow.python.ops.resource_variable_ops) with constraint is deprecated and will be removed in a future version.\n",
      "Instructions for updating:\n",
      "If using Keras pass *_constraint arguments to layers.\n"
     ]
    },
    {
     "data": {
      "image/png": "[encoded data removed]",
      "text/plain": [
       "<Figure size 432x288 with 1 Axes>"
      ]
     },
     "metadata": {
      "needs_background": "light"
     },
     "output_type": "display_data"
    }
   ],
   "source": [
    "M = 30\n",
    "N = 100\n",
    "num_of_video = 100\n",
    "num_of_client = 50\n",
    "cache_size = 20\n",
    "zipf_param = 1\n",
    "s_len = 10\n",
    "l_len = 100\n",
    "K = 5\n",
    "ch_p = 0.001\n",
    "rho = 0.5\n",
    "\n",
    "t = [n for n in range(N)]\n",
    "mean_reward1 = np.zeros(N)\n",
    "mean_reward2 = np.zeros(N)\n",
    "\n",
    "for i in range(M):\n",
    "    reward_list = np.array(RL_Caching(M, N, num_of_video, num_of_client, cache_size, s_len, l_len, K, zipf_param))\n",
    "    mean_reward1 += reward_list / M\n",
    "    if i == 0:\n",
    "        max_list1 = reward_list\n",
    "        min_list1 = reward_list\n",
    "    else:\n",
    "        max_list1 = [max(max_list1[i], reward_list[i]) for i in t]\n",
    "        min_list1 = [min(min_list1[i], reward_list[i]) for i in t]\n",
    "\n",
    "    reward_list = np.array(RL_Caching(M, N, num_of_video, num_of_client, cache_size//2, s_len, l_len, K, zipf_param))\n",
    "    mean_reward2 += reward_list / M\n",
    "    if i == 0:\n",
    "        max_list2 = reward_list\n",
    "        min_list2 = reward_list\n",
    "    else:\n",
    "        max_list2 = [max(max_list2[i], reward_list[i]) for i in t]\n",
    "        min_list2 = [min(min_list2[i], reward_list[i]) for i in t]\n",
    "        \n",
    "plt.plot(t, mean_reward1, 'r')\n",
    "plt.plot(t, mean_reward2, 'b')\n",
    "plt.legend(['C = 20','C = 10'])\n",
    "plt.show()"
   ]
  },
  {
   "cell_type": "code",
   "execution_count": 4,
   "metadata": {},
   "outputs": [
    {
     "name": "stdout",
     "output_type": "stream",
     "text": [
      "[0.22866666666666668, 0.2810000000000001, 0.3153333333333333, 0.3223333333333334, 0.366, 0.3913333333333333, 0.40599999999999997, 0.4299999999999999, 0.45433333333333326, 0.4789999999999999, 0.49733333333333307, 0.4823333333333333, 0.5326666666666667, 0.5353333333333333, 0.5483333333333333, 0.5456666666666665, 0.556, 0.5803333333333335, 0.5866666666666667, 0.6186666666666666, 0.607, 0.6143333333333334, 0.6226666666666667, 0.6343333333333334, 0.6326666666666667, 0.6339999999999999, 0.6513333333333332, 0.6566666666666667, 0.6646666666666666, 0.668, 0.6610000000000001, 0.6673333333333332, 0.6640000000000001, 0.6566666666666666, 0.6816666666666669, 0.6726666666666667, 0.6789999999999998, 0.6819999999999999, 0.6633333333333333, 0.6713333333333333, 0.6733333333333333, 0.6579999999999999, 0.654, 0.643, 0.6746666666666664, 0.6703333333333332, 0.673, 0.6676666666666666, 0.6696666666666665, 0.6623333333333333, 0.6613333333333332, 0.653, 0.6586666666666668, 0.6629999999999999, 0.6703333333333334, 0.673, 0.671, 0.6623333333333334, 0.6583333333333334, 0.6623333333333332, 0.6683333333333334, 0.6599999999999999, 0.6463333333333332, 0.6603333333333332, 0.654, 0.6573333333333333, 0.6553333333333334, 0.6490000000000001, 0.6733333333333331, 0.65, 0.6626666666666664, 0.6723333333333332, 0.6643333333333333, 0.6673333333333334, 0.6713333333333332, 0.6683333333333331, 0.6779999999999999, 0.6766666666666665, 0.6736666666666666, 0.666, 0.6546666666666666, 0.6746666666666666, 0.68, 0.6789999999999999, 0.6683333333333333, 0.6623333333333337, 0.6640000000000001, 0.6596666666666667, 0.6696666666666666, 0.6653333333333333, 0.6669999999999998, 0.682, 0.6913333333333334, 0.6649999999999998, 0.6603333333333335, 0.6633333333333334, 0.6666666666666667, 0.6703333333333332, 0.6596666666666666, 0.6706666666666666]\n"
     ]
    }
   ],
   "source": [
    "print(list(mean_reward1))"
   ]
  },
  {
   "cell_type": "code",
   "execution_count": 5,
   "metadata": {},
   "outputs": [
    {
     "name": "stdout",
     "output_type": "stream",
     "text": [
      "[0.32, 0.4, 0.4, 0.47, 0.47, 0.5, 0.52, 0.52, 0.58, 0.57, 0.64, 0.58, 0.64, 0.65, 0.66, 0.62, 0.66, 0.69, 0.7, 0.7, 0.7, 0.76, 0.7, 0.74, 0.8, 0.72, 0.74, 0.74, 0.76, 0.78, 0.78, 0.76, 0.74, 0.77, 0.76, 0.78, 0.78, 0.78, 0.76, 0.76, 0.78, 0.74, 0.73, 0.75, 0.75, 0.76, 0.76, 0.78, 0.76, 0.8, 0.74, 0.76, 0.73, 0.76, 0.76, 0.75, 0.77, 0.76, 0.76, 0.76, 0.78, 0.72, 0.76, 0.72, 0.76, 0.76, 0.78, 0.74, 0.78, 0.75, 0.8, 0.76, 0.74, 0.76, 0.77, 0.76, 0.78, 0.8, 0.74, 0.79, 0.78, 0.76, 0.75, 0.79, 0.76, 0.76, 0.75, 0.74, 0.76, 0.76, 0.78, 0.78, 0.78, 0.81, 0.78, 0.78, 0.78, 0.76, 0.76, 0.74]\n"
     ]
    }
   ],
   "source": [
    "print(max_list1)"
   ]
  },
  {
   "cell_type": "code",
   "execution_count": 6,
   "metadata": {},
   "outputs": [
    {
     "name": "stdout",
     "output_type": "stream",
     "text": [
      "[0.14, 0.12, 0.23, 0.24, 0.28, 0.26, 0.28, 0.29, 0.35, 0.38, 0.37, 0.36, 0.42, 0.43, 0.42, 0.42, 0.48, 0.48, 0.44, 0.55, 0.46, 0.49, 0.5, 0.54, 0.52, 0.52, 0.58, 0.56, 0.55, 0.6, 0.56, 0.56, 0.6, 0.57, 0.6, 0.56, 0.59, 0.56, 0.56, 0.6, 0.57, 0.54, 0.55, 0.57, 0.59, 0.6, 0.54, 0.61, 0.56, 0.56, 0.54, 0.51, 0.54, 0.55, 0.58, 0.58, 0.6, 0.59, 0.56, 0.57, 0.56, 0.57, 0.55, 0.58, 0.55, 0.5, 0.53, 0.52, 0.56, 0.52, 0.52, 0.59, 0.57, 0.56, 0.53, 0.56, 0.56, 0.56, 0.56, 0.58, 0.53, 0.58, 0.58, 0.62, 0.55, 0.56, 0.54, 0.6, 0.56, 0.56, 0.54, 0.57, 0.59, 0.55, 0.54, 0.56, 0.54, 0.52, 0.56, 0.58]\n"
     ]
    }
   ],
   "source": [
    "print(min_list1)"
   ]
  },
  {
   "cell_type": "code",
   "execution_count": 7,
   "metadata": {},
   "outputs": [
    {
     "name": "stdout",
     "output_type": "stream",
     "text": [
      "[0.23066666666666666, 0.2793333333333333, 0.31133333333333335, 0.3289999999999999, 0.36300000000000004, 0.3843333333333333, 0.4190000000000001, 0.42100000000000004, 0.4589999999999999, 0.486, 0.4596666666666666, 0.48766666666666664, 0.48099999999999987, 0.498, 0.5093333333333334, 0.5033333333333333, 0.5023333333333333, 0.47866666666666663, 0.49266666666666664, 0.4946666666666667, 0.48633333333333334, 0.48166666666666663, 0.48533333333333334, 0.5153333333333331, 0.491, 0.4993333333333333, 0.49899999999999994, 0.49800000000000005, 0.5136666666666666, 0.4819999999999999, 0.4999999999999999, 0.5223333333333332, 0.48966666666666664, 0.49433333333333324, 0.49933333333333335, 0.5129999999999999, 0.483, 0.5159999999999999, 0.5040000000000001, 0.49533333333333335, 0.5106666666666667, 0.509, 0.504, 0.4926666666666667, 0.52, 0.5093333333333332, 0.5099999999999999, 0.5213333333333331, 0.5009999999999999, 0.511, 0.4916666666666666, 0.4903333333333333, 0.514, 0.5063333333333332, 0.5016666666666667, 0.5076666666666666, 0.514, 0.5113333333333334, 0.49799999999999994, 0.5106666666666666, 0.5143333333333332, 0.5213333333333333, 0.5173333333333332, 0.5016666666666666, 0.511, 0.525, 0.4976666666666667, 0.507, 0.5146666666666667, 0.5046666666666666, 0.49966666666666665, 0.5230000000000001, 0.5146666666666666, 0.5123333333333335, 0.5119999999999999, 0.4946666666666666, 0.5073333333333333, 0.5113333333333332, 0.5089999999999999, 0.5073333333333333, 0.498, 0.5113333333333332, 0.4989999999999999, 0.5119999999999999, 0.5136666666666666, 0.5163333333333334, 0.5116666666666666, 0.5136666666666667, 0.5206666666666666, 0.5039999999999999, 0.5133333333333333, 0.5426666666666667, 0.518, 0.5066666666666665, 0.5033333333333333, 0.497, 0.5049999999999999, 0.5046666666666667, 0.506, 0.513]\n"
     ]
    }
   ],
   "source": [
    "print(list(mean_reward2))"
   ]
  },
  {
   "cell_type": "code",
   "execution_count": 8,
   "metadata": {},
   "outputs": [
    {
     "name": "stdout",
     "output_type": "stream",
     "text": [
      "[0.32, 0.35, 0.4, 0.43, 0.5, 0.47, 0.51, 0.54, 0.58, 0.58, 0.52, 0.59, 0.58, 0.61, 0.64, 0.6, 0.62, 0.55, 0.59, 0.58, 0.6, 0.58, 0.59, 0.62, 0.56, 0.64, 0.66, 0.63, 0.62, 0.58, 0.62, 0.63, 0.62, 0.62, 0.6, 0.62, 0.64, 0.6, 0.62, 0.6, 0.59, 0.62, 0.58, 0.57, 0.6, 0.61, 0.66, 0.64, 0.64, 0.62, 0.6, 0.6, 0.58, 0.62, 0.64, 0.62, 0.61, 0.6, 0.6, 0.63, 0.64, 0.58, 0.61, 0.64, 0.6, 0.66, 0.63, 0.6, 0.61, 0.58, 0.59, 0.64, 0.65, 0.64, 0.6, 0.59, 0.64, 0.64, 0.59, 0.62, 0.62, 0.62, 0.58, 0.58, 0.6, 0.64, 0.62, 0.6, 0.62, 0.64, 0.66, 0.66, 0.64, 0.6, 0.68, 0.6, 0.65, 0.6, 0.64, 0.66]\n"
     ]
    }
   ],
   "source": [
    "print(max_list2)"
   ]
  },
  {
   "cell_type": "code",
   "execution_count": 9,
   "metadata": {},
   "outputs": [
    {
     "name": "stdout",
     "output_type": "stream",
     "text": [
      "[0.14, 0.15, 0.19, 0.26, 0.3, 0.31, 0.28, 0.28, 0.38, 0.4, 0.32, 0.4, 0.39, 0.39, 0.42, 0.4, 0.38, 0.35, 0.37, 0.39, 0.38, 0.4, 0.36, 0.4, 0.4, 0.4, 0.37, 0.38, 0.42, 0.38, 0.4, 0.43, 0.37, 0.34, 0.38, 0.41, 0.38, 0.42, 0.38, 0.31, 0.42, 0.42, 0.42, 0.36, 0.43, 0.4, 0.39, 0.44, 0.38, 0.4, 0.4, 0.33, 0.39, 0.37, 0.39, 0.4, 0.36, 0.4, 0.42, 0.4, 0.38, 0.44, 0.43, 0.4, 0.44, 0.44, 0.38, 0.4, 0.38, 0.42, 0.38, 0.43, 0.42, 0.4, 0.39, 0.4, 0.4, 0.36, 0.4, 0.38, 0.35, 0.35, 0.39, 0.4, 0.44, 0.37, 0.34, 0.37, 0.4, 0.41, 0.4, 0.42, 0.42, 0.42, 0.39, 0.4, 0.41, 0.42, 0.38, 0.42]\n"
     ]
    }
   ],
   "source": [
    "print(min_list2)"
   ]
  },
  {
   "cell_type": "code",
   "execution_count": null,
   "metadata": {},
   "outputs": [],
   "source": []
  }
 ],
 "metadata": {
  "kernelspec": {
   "display_name": "Python 3",
   "language": "python",
   "name": "python3"
  },
  "language_info": {
   "codemirror_mode": {
    "name": "ipython",
    "version": 3
   },
   "file_extension": ".py",
   "mimetype": "text/x-python",
   "name": "python",
   "nbconvert_exporter": "python",
   "pygments_lexer": "ipython3",
   "version": "3.7.4"
  }
 },
 "nbformat": 4,
 "nbformat_minor": 2
}
