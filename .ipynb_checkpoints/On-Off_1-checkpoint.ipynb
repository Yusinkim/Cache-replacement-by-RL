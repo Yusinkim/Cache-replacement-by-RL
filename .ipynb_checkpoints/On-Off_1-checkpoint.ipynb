{
 "cells": [
  {
   "cell_type": "code",
   "execution_count": 136,
   "metadata": {},
   "outputs": [],
   "source": [
    "import numpy as np\n",
    "import tensorflow as tf\n",
    "import matplotlib.pyplot as plt\n",
    "\n",
    "M = 100\n",
    "N = 300\n",
    "number_of_video = 100\n",
    "number_of_client = 3\n",
    "cache_size = 10\n",
    "zipf_param = 1.5\n",
    "total_param = 0\n",
    "client_param = 0.01\n",
    "zipf_p = np.array([1/(i**zipf_param) for i in range(1,number_of_video+1)])\n",
    "zipf_p /= sum(zipf_p)"
   ]
  },
  {
   "cell_type": "markdown",
   "metadata": {},
   "source": [
    "# RL + FIFO or RL + LRU"
   ]
  },
  {
   "cell_type": "markdown",
   "metadata": {},
   "source": [
    "# 전체의 분포 L, 유저의 선호도는 (1-e)L + eL\n",
    "# 전체의 분포 L도 시간에 따라 (1-e')L + e'L "
   ]
  },
  {
   "cell_type": "markdown",
   "metadata": {},
   "source": [
    "# 현재 Client의 선호도만 수정완료"
   ]
  },
  {
   "cell_type": "markdown",
   "metadata": {},
   "source": [
    "# 반복 횟수가 M과 N이 있는데 전체랭킹과 유저랭킹을 언제 바꿔줘야 하는가?"
   ]
  },
  {
   "cell_type": "code",
   "execution_count": 137,
   "metadata": {},
   "outputs": [],
   "source": [
    "def make_list(n):\n",
    "    l = [[]]\n",
    "    for _ in range(n-1):\n",
    "        l += [[]]\n",
    "    return l\n",
    "\n",
    "def bit(VN, l):\n",
    "    new_l = make_list(len(l))\n",
    "    for i in range(len(l)):\n",
    "        l[i] = list(map(int, l[i]))\n",
    "        zeros = np.zeros(VN)\n",
    "        zeros[l[i]] = 1\n",
    "        new_l[i] = zeros\n",
    "    return np.array(new_l)\n",
    "    \n",
    "def zipf(VN, N, p, n, a=1):\n",
    "    if len(p.shape) == 1:\n",
    "        p = np.array([p]) # 하나만 교체할 때 필요한 작업\n",
    "    C = make_list(N)\n",
    "    for i in range(N):\n",
    "        C[i] = np.random.choice(list(range(VN)), n, False, p[i])\n",
    "    return np.array(C)\n",
    "\n",
    "def conversion(L, p):\n",
    "    l = list(zip(L, p))\n",
    "    l.sort()\n",
    "    return np.array(list(zip(*l))[1])\n",
    "\n",
    "class cache_env:\n",
    "    def __init__(self, VN, N, p, cs, a=1):\n",
    "        self.VN = VN\n",
    "        self.N = N\n",
    "        self.cs = cs\n",
    "        self.a = a\n",
    "        self.p = p\n",
    "        self.state = make_list(self.N)\n",
    "        self.request = zipf(self.VN, self.N, self.p, 1, self.a)\n",
    "    \n",
    "    def step(self, replace, Algorithm = 'FIFO'):\n",
    "        for i in range(self.N):\n",
    "            if replace[i]:\n",
    "                if Algorithm == 'FIFO':\n",
    "                    self.FIFO(i)\n",
    "                elif Algorithm == 'LRU':\n",
    "                    self.LRU(i)\n",
    "                else:\n",
    "                    raise NameError('Wrong Algorithm Name')\n",
    "        self.request = zipf(self.VN, self.N, self.p, 1, self.a)\n",
    "        reward = np.zeros((self.N, 1))\n",
    "        for i in range(self.N):\n",
    "            reward[i][0] = 1 * (self.request[i] in self.state[i])\n",
    "        return reward\n",
    "    \n",
    "    def FIFO(self, idx):\n",
    "        if len(self.state[idx]) < self.cs:\n",
    "            self.state[idx] = np.hstack((self.state[idx], self.request[idx]))\n",
    "        else:\n",
    "            self.state[idx] = np.hstack((self.state[idx][1:], self.request[idx]))\n",
    "    \n",
    "    def LRU(self, idx):\n",
    "        if self.request[idx] in self.state[idx]:\n",
    "            self.state[idx] = np.delete(self.state[idx], np.where(self.state[idx] == self.request[idx][0])[0])\n",
    "            self.state[idx] = np.hstack((self.state[idx], self.request[idx]))\n",
    "        else:\n",
    "            if len(self.state[idx]) < self.cs:\n",
    "                self.state[idx] = np.hstack((self.state[idx], self.request[idx]))\n",
    "            else:\n",
    "                self.state[idx] = np.hstack((self.state[idx][1:], self.request[idx]))\n",
    "                \n",
    "    def reset(self, p):\n",
    "        self.p = p\n",
    "        self.request = zipf(self.VN, self.N, self.p, 1, self.a)"
   ]
  },
  {
   "cell_type": "code",
   "execution_count": 138,
   "metadata": {},
   "outputs": [
    {
     "data": {
      "image/png": "[encoded data removed]",
      "text/plain": [
       "<Figure size 432x288 with 1 Axes>"
      ]
     },
     "metadata": {
      "needs_background": "light"
     },
     "output_type": "display_data"
    },
    {
     "name": "stdout",
     "output_type": "stream",
     "text": [
      "Hit rate : 0.46114239309457283\n"
     ]
    }
   ],
   "source": [
    "train_hit_M = np.zeros(N)\n",
    "action_state = 2\n",
    "learning_rate = 0.3\n",
    "dis = 0.9\n",
    "t = [n for n in range(N)]\n",
    "Algorithm = 'LRU'\n",
    "\n",
    "for m in range(M):\n",
    "    next_p = make_list(number_of_client)\n",
    "    L = np.array([np.random.permutation(list(range(number_of_video))) for _ in range(number_of_client)]) # Random Preference\n",
    "    # L = np.array([np.array(list(range(number_of_video))) for _ in range(number_of_client)])\n",
    "    for i in range(number_of_client):\n",
    "        next_p[i] = conversion(L[i], zipf_p)\n",
    "    next_p = np.array(next_p)\n",
    "    \n",
    "    if m == 0:\n",
    "        p = next_p\n",
    "        cache = cache_env(number_of_video, number_of_client, p, cache_size, zipf_param)\n",
    "    else:\n",
    "        p = (1-client_param) * p + client_param * next_p\n",
    "        cache.reset(p)\n",
    "    \n",
    "    X = tf.placeholder(shape=[number_of_client, number_of_video * 2], dtype = tf.float32)\n",
    "    W = tf.Variable(tf.random_uniform([number_of_video * 2, action_state], 0, 0.01))\n",
    "    \n",
    "    Qpred = tf.matmul(X, W)\n",
    "    Y = tf.placeholder(shape=[number_of_client, action_state], dtype = tf.float32)\n",
    "    loss = tf.reduce_sum(tf.square(Y - Qpred))\n",
    "\n",
    "    train = tf.train.AdamOptimizer(learning_rate = learning_rate).minimize(loss)\n",
    "\n",
    "    train_r = 0\n",
    "    train_count = 0\n",
    "    train_hit = []\n",
    "\n",
    "    init = tf.global_variables_initializer()\n",
    "    with tf.Session() as sess:\n",
    "        sess.run(init)\n",
    "        for i in range(N):\n",
    "            count = 0\n",
    "            for n in range(number_of_client):\n",
    "                while cache.request[n][0] in cache.state[n]:\n",
    "                    if Algorithm == 'LRU':\n",
    "                        cache.LRU(n)\n",
    "                    cache.request[n] = zipf(number_of_video, 1, p[n], 1, zipf_param)[0]\n",
    "                    count += 1\n",
    "                    \n",
    "            e = 1/(i/10+1)\n",
    "            Qs = sess.run(Qpred, feed_dict = {X:np.hstack((bit(number_of_video, cache.request),bit(number_of_video, cache.state)))})\n",
    "            \n",
    "            if np.random.rand(1) < e:\n",
    "                a = np.random.randint(2, size = (number_of_client))\n",
    "            else:\n",
    "                a = np.argmax(Qs, 1)\n",
    "            \n",
    "            reward = cache.step(a, Algorithm) * np.identity(action_state)[a]\n",
    "            Qs1 = sess.run(Qpred, feed_dict = {X:np.hstack((bit(number_of_video, cache.request),bit(number_of_video, cache.state)))})\n",
    "            maxQ = np.array([np.max(Qs1, 1)]).transpose()\n",
    "            Qs = reward + dis * np.hstack((maxQ,maxQ)) * np.identity(action_state)[np.argmax(Qs1, 1)]\n",
    "            \n",
    "            sess.run(train, feed_dict = {X:np.hstack((bit(number_of_video, cache.request),bit(number_of_video, cache.state))), Y:Qs})\n",
    "            \n",
    "            train_r += count\n",
    "            train_count += count + number_of_client\n",
    "            train_hit.append(train_r / train_count)\n",
    "        train_hit_M += np.array(train_hit)\n",
    "\n",
    "plt.plot(t,train_hit_M / M,'r')\n",
    "plt.show()\n",
    "print('Hit rate :',train_hit_M[N-1] / M)"
   ]
  },
  {
   "cell_type": "markdown",
   "metadata": {},
   "source": [
    "# FIFO"
   ]
  },
  {
   "cell_type": "code",
   "execution_count": 139,
   "metadata": {},
   "outputs": [],
   "source": [
    "def zipf(VN, N, p, n, a=1):\n",
    "    if len(p.shape) == 1:\n",
    "        p = np.array([p])\n",
    "    C = make_list(N)\n",
    "    for i in range(N):\n",
    "        C[i].extend(np.random.choice(list(range(VN)), n, False, p[i]))\n",
    "    return C\n",
    "\n",
    "class cache_env:\n",
    "    def __init__(self, VN, N, p, cs, a=1):\n",
    "        self.VN = VN\n",
    "        self.N = N\n",
    "        self.cs = cs\n",
    "        self.a = a\n",
    "        self.p = p\n",
    "        self.state = make_list(N)\n",
    "        self.request = zipf(self.VN, self.N, self.p, 1, self.a)\n",
    "    \n",
    "    def step(self):\n",
    "        count = 0\n",
    "        for i in range(self.N):\n",
    "            while self.request[i][0] in self.state[i]:\n",
    "                self.request[i] = zipf(self.VN, 1, self.p[i], 1, self.a)[0]\n",
    "                count += 1\n",
    "        self.replacement()\n",
    "        self.request = zipf(self.VN, self.N, self.p, 1, self.a)\n",
    "        return count\n",
    "    \n",
    "    def replacement(self):\n",
    "        for i in range(self.N):\n",
    "            if len(self.state[i]) < self.cs:\n",
    "                self.state[i].append(self.request[i][0])\n",
    "            else:\n",
    "                self.state[i] = self.state[i][1:] + self.request[i]\n",
    "                \n",
    "    def reset(self, p):\n",
    "        self.p = p\n",
    "        self.request = zipf(self.VN, self.N, self.p, 1, self.a)"
   ]
  },
  {
   "cell_type": "code",
   "execution_count": 140,
   "metadata": {},
   "outputs": [
    {
     "data": {
      "image/png": "[encoded data removed]",
      "text/plain": [
       "<Figure size 432x288 with 1 Axes>"
      ]
     },
     "metadata": {
      "needs_background": "light"
     },
     "output_type": "display_data"
    },
    {
     "name": "stdout",
     "output_type": "stream",
     "text": [
      "Hit rate : 0.3967595707943331\n"
     ]
    }
   ],
   "source": [
    "FIFO_hit_M = np.zeros(N)\n",
    "t = [n for n in range(N)]\n",
    "for m in range(M):\n",
    "    next_p = make_list(number_of_client)\n",
    "    L = np.array([np.random.permutation(list(range(number_of_video))) for _ in range(number_of_client)]) # Random Preference\n",
    "    # L = np.array([np.array(list(range(number_of_video))) for _ in range(number_of_client)])\n",
    "    for i in range(number_of_client):\n",
    "        next_p[i] = conversion(L[i], zipf_p)\n",
    "    next_p = np.array(next_p)\n",
    "    \n",
    "    if m == 0:\n",
    "        p = next_p\n",
    "        cache = cache_env(number_of_video, number_of_client, p, cache_size, zipf_param)\n",
    "    else:\n",
    "        p = (1-client_param) * p + client_param * next_p\n",
    "        cache.reset(p)\n",
    "\n",
    "    FIFO_r = 0\n",
    "    FIFO_count = 0\n",
    "    FIFO_hit = []\n",
    "\n",
    "    for i in range(N):\n",
    "        count = cache.step()\n",
    "        FIFO_r += count\n",
    "        FIFO_count += count + number_of_client\n",
    "        FIFO_hit.append(FIFO_r / FIFO_count)\n",
    "    FIFO_hit_M += np.array(FIFO_hit)\n",
    "\n",
    "plt.plot(t,FIFO_hit_M / M,'b')\n",
    "plt.show()\n",
    "print('Hit rate :',FIFO_hit_M[N-1] / M)"
   ]
  },
  {
   "cell_type": "markdown",
   "metadata": {},
   "source": [
    "# LFU"
   ]
  },
  {
   "cell_type": "code",
   "execution_count": 141,
   "metadata": {},
   "outputs": [],
   "source": [
    "class cache_env:\n",
    "    def __init__(self, VN, N, p, cs, a=1):\n",
    "        self.VN = VN\n",
    "        self.N = N\n",
    "        self.cs = cs\n",
    "        self.a = a\n",
    "        self.p = p\n",
    "        self.state = make_list(N)\n",
    "        self.request = zipf(self.VN, self.N, self.p, 1, self.a)\n",
    "        self.rq_count = [0] * VN\n",
    "    \n",
    "    def step(self):\n",
    "        count = 0\n",
    "        for i in range(self.N):\n",
    "            while self.request[i][0] in self.state[i]:\n",
    "                self.request[i] = zipf(self.VN, 1, self.p[i], 1, self.a)[0]\n",
    "                self.rq_count[self.request[i][0]] += 1\n",
    "                count += 1\n",
    "        self.replacement()\n",
    "        self.request = zipf(self.VN, self.N, self.p, 1, self.a)\n",
    "        return count\n",
    "    \n",
    "    def replacement(self):\n",
    "        def count(i):\n",
    "            return self.rq_count[i]\n",
    "        for i in range(self.N):\n",
    "            if len(self.state[i]) < self.cs:\n",
    "                self.state[i].append(self.request[i][0])\n",
    "            else:\n",
    "                count_l = list(map(count, self.state[i]))\n",
    "                idx = np.where(np.array(count_l) == min(count_l))[0]\n",
    "                self.state[i].remove(self.state[i][idx[0]])\n",
    "                self.state[i].append(self.request[i][0])\n",
    "    \n",
    "    def reset(self, p):\n",
    "        self.p = p\n",
    "        self.request = zipf(self.VN, self.N, self.p, 1, self.a)"
   ]
  },
  {
   "cell_type": "code",
   "execution_count": 142,
   "metadata": {},
   "outputs": [
    {
     "data": {
      "image/png": "[encoded data removed]",
      "text/plain": [
       "<Figure size 432x288 with 1 Axes>"
      ]
     },
     "metadata": {
      "needs_background": "light"
     },
     "output_type": "display_data"
    },
    {
     "name": "stdout",
     "output_type": "stream",
     "text": [
      "Hit rate : 0.46514257296873174\n"
     ]
    }
   ],
   "source": [
    "LFU_hit_M = np.zeros(N)\n",
    "t = [n for n in range(N)]\n",
    "for m in range(M):\n",
    "    next_p = make_list(number_of_client)\n",
    "    L = np.array([np.random.permutation(list(range(number_of_video))) for _ in range(number_of_client)]) # Random Preference\n",
    "    # L = np.array([np.array(list(range(number_of_video))) for _ in range(number_of_client)])\n",
    "    for i in range(number_of_client):\n",
    "        next_p[i] = conversion(L[i], zipf_p)\n",
    "    next_p = np.array(next_p)\n",
    "    \n",
    "    if m == 0:\n",
    "        p = next_p\n",
    "        cache = cache_env(number_of_video, number_of_client, p, cache_size, zipf_param)\n",
    "    else:\n",
    "        p = (1-client_param) * p + client_param * next_p\n",
    "        cache.reset(p)\n",
    "    LFU_r = 0\n",
    "    LFU_count = 0\n",
    "    LFU_hit = []\n",
    "\n",
    "    for i in range(N):\n",
    "        count = cache.step()\n",
    "        LFU_r += count\n",
    "        LFU_count += count + number_of_client\n",
    "        LFU_hit.append(LFU_r / LFU_count)\n",
    "    LFU_hit_M += np.array(LFU_hit)\n",
    "        \n",
    "plt.plot(t,LFU_hit_M / M,'k')\n",
    "plt.show()\n",
    "print('Hit rate :',LFU_hit_M[N-1] / M)"
   ]
  },
  {
   "cell_type": "markdown",
   "metadata": {},
   "source": [
    "# LRU"
   ]
  },
  {
   "cell_type": "code",
   "execution_count": 143,
   "metadata": {},
   "outputs": [],
   "source": [
    "class cache_env:\n",
    "    def __init__(self, VN, N, p, cs, a=1):\n",
    "        self.VN = VN\n",
    "        self.N = N\n",
    "        self.cs = cs\n",
    "        self.a = a\n",
    "        self.p = p\n",
    "        self.state = make_list(N)\n",
    "        self.request = zipf(self.VN, self.N, self.p, 1, self.a)\n",
    "    \n",
    "    def step(self):\n",
    "        count = 0\n",
    "        for i in range(self.N):\n",
    "            while self.request[i][0] in self.state[i]:\n",
    "                self.replacement(i)\n",
    "                self.request[i] = zipf(self.VN, 1, self.p[i], 1, self.a)[0]\n",
    "                count += 1\n",
    "        for i in range(self.N):\n",
    "            self.replacement(i)\n",
    "        self.request = zipf(self.VN, self.N, self.p, 1, self.a)\n",
    "        return count\n",
    "    \n",
    "    def replacement(self, idx):\n",
    "        if self.request[idx][0] in self.state[idx]:\n",
    "            self.state[idx].remove(self.request[idx][0])\n",
    "            self.state[idx].append(self.request[idx][0])\n",
    "        else:\n",
    "            if len(self.state[idx]) < self.cs:\n",
    "                self.state[idx].append(self.request[idx][0])\n",
    "            else:\n",
    "                self.state[idx] = self.state[idx][1:] + self.request[idx]\n",
    "                \n",
    "    def reset(self, p):\n",
    "        self.p = p\n",
    "        self.request = zipf(self.VN, self.N, self.p, 1, self.a)"
   ]
  },
  {
   "cell_type": "code",
   "execution_count": 144,
   "metadata": {},
   "outputs": [
    {
     "data": {
      "image/png": "[encoded data removed]",
      "text/plain": [
       "<Figure size 432x288 with 1 Axes>"
      ]
     },
     "metadata": {
      "needs_background": "light"
     },
     "output_type": "display_data"
    },
    {
     "name": "stdout",
     "output_type": "stream",
     "text": [
      "Hit rate : 0.4503083341221135\n"
     ]
    }
   ],
   "source": [
    "LRU_hit_M = np.zeros(N)\n",
    "t = [n for n in range(N)]\n",
    "for m in range(M):\n",
    "    next_p = make_list(number_of_client)\n",
    "    L = np.array([np.random.permutation(list(range(number_of_video))) for _ in range(number_of_client)]) # Random Preference\n",
    "    # L = np.array([np.array(list(range(number_of_video))) for _ in range(number_of_client)])\n",
    "    for i in range(number_of_client):\n",
    "        next_p[i] = conversion(L[i], zipf_p)\n",
    "    next_p = np.array(next_p)\n",
    "    \n",
    "    if m == 0:\n",
    "        p = next_p\n",
    "        cache = cache_env(number_of_video, number_of_client, p, cache_size, zipf_param)\n",
    "    else:\n",
    "        p = (1-client_param) * p + client_param * next_p\n",
    "        cache.reset(p)\n",
    "\n",
    "    LRU_r = 0\n",
    "    LRU_count = 0\n",
    "    LRU_hit = []\n",
    "\n",
    "    for i in range(N):\n",
    "        count = cache.step()\n",
    "        LRU_r += count\n",
    "        LRU_count += count + number_of_client\n",
    "        LRU_hit.append(LRU_r / LRU_count)\n",
    "    LRU_hit_M += np.array(LRU_hit)\n",
    "\n",
    "plt.plot(t,LRU_hit_M / M,'g')\n",
    "plt.show()\n",
    "print('Hit rate :',LRU_hit_M[N-1] / M)"
   ]
  },
  {
   "cell_type": "markdown",
   "metadata": {},
   "source": [
    "# Comparison"
   ]
  },
  {
   "cell_type": "code",
   "execution_count": 145,
   "metadata": {},
   "outputs": [
    {
     "data": {
      "image/png": "[encoded data removed]",
      "text/plain": [
       "<Figure size 432x288 with 1 Axes>"
      ]
     },
     "metadata": {
      "needs_background": "light"
     },
     "output_type": "display_data"
    }
   ],
   "source": [
    "plt.plot(t,train_hit_M / M,'red')\n",
    "plt.plot(t,FIFO_hit_M / M,'blue')\n",
    "plt.plot(t,LFU_hit_M / M,'black')\n",
    "plt.plot(t,LRU_hit_M / M,'green')\n",
    "plt.legend(['RL', 'FIFO', 'LFU', 'LRU'])\n",
    "plt.show()"
   ]
  },
  {
   "cell_type": "code",
   "execution_count": null,
   "metadata": {},
   "outputs": [],
   "source": []
  }
 ],
 "metadata": {
  "kernelspec": {
   "display_name": "Python 3",
   "language": "python",
   "name": "python3"
  },
  "language_info": {
   "codemirror_mode": {
    "name": "ipython",
    "version": 3
   },
   "file_extension": ".py",
   "mimetype": "text/x-python",
   "name": "python",
   "nbconvert_exporter": "python",
   "pygments_lexer": "ipython3",
   "version": "3.7.3"
  }
 },
 "nbformat": 4,
 "nbformat_minor": 2
}
