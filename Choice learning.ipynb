{
 "cells": [
  {
   "cell_type": "markdown",
   "metadata": {},
   "source": [
    "# Caching for Reinforcement Learning"
   ]
  },
  {
   "cell_type": "code",
   "execution_count": 1,
   "metadata": {},
   "outputs": [],
   "source": [
    "import numpy as np\n",
    "import tensorflow as tf\n",
    "import matplotlib.pyplot as plt\n",
    "\n",
    "def zipf(VN, n, a=1):\n",
    "    p = np.array([1/(i**a) for i in range(1,VN+1)])\n",
    "    p = p / sum(p)\n",
    "    c = np.random.choice([i for i in range(VN)], n, False, p)\n",
    "    C = [0] * VN\n",
    "    for c in c:\n",
    "        C[c] = 1\n",
    "    return np.array(C)\n",
    "\n",
    "def choice(q, n):\n",
    "    p = q / sum(q)\n",
    "    c = np.array([0] * len(p))\n",
    "    while sum(c) < n:\n",
    "        m = np.amax(p)\n",
    "        idx = np.random.choice(np.where(p == m)[0])\n",
    "        if c[idx] == 0:\n",
    "            c[idx] = 1\n",
    "            p[idx] = min(p)\n",
    "    return np.array([c])\n",
    "\n",
    "class cache_env:\n",
    "    def __init__(self, VN, cs, a=1):\n",
    "        self.VN = VN\n",
    "        self.cs = cs\n",
    "        self.a = a\n",
    "        self.state = choice(np.array([1]*self.VN), self.cs)\n",
    "    \n",
    "    def step(self, cache_action):\n",
    "        self.state = cache_action\n",
    "        self.request = zipf(self.VN, 1, self.a)\n",
    "        reward = self.state * self.request\n",
    "        return reward"
   ]
  },
  {
   "cell_type": "code",
   "execution_count": 2,
   "metadata": {},
   "outputs": [
    {
     "data": {
      "image/png": "[encoded data removed]",
      "text/plain": [
       "<Figure size 432x288 with 1 Axes>"
      ]
     },
     "metadata": {
      "needs_background": "light"
     },
     "output_type": "display_data"
    },
    {
     "name": "stdout",
     "output_type": "stream",
     "text": [
      "Final caching list : [0, 1, 2, 4, 12]\n",
      "Test hit rate : 0.862\n"
     ]
    }
   ],
   "source": [
    "number_of_video = 100\n",
    "cache_size = 5\n",
    "cache = cache_env(number_of_video, cache_size, 2)\n",
    "\n",
    "input_size = len(cache.state[0])\n",
    "output_size = input_size\n",
    "learning_rate = 0.01\n",
    "dis = 0.9\n",
    "\n",
    "X = tf.placeholder(shape=[1, input_size], dtype = tf.float32)\n",
    "W = tf.Variable(tf.random_uniform([input_size, output_size], 0, 0.01))\n",
    "\n",
    "Qpred = tf.matmul(X, W)\n",
    "Y = tf.placeholder(shape=[1, output_size], dtype = tf.float32)\n",
    "loss = tf.reduce_sum(tf.square(Y - Qpred))\n",
    "\n",
    "train = tf.train.GradientDescentOptimizer(learning_rate = learning_rate).minimize(loss)\n",
    "\n",
    "N = 10000\n",
    "t = [n for n in range(N)]\n",
    "train_r = 0\n",
    "train_hit = []\n",
    "test_r = 0\n",
    "\n",
    "init = tf.global_variables_initializer()\n",
    "with tf.Session() as sess:\n",
    "    sess.run(init)\n",
    "    for i in range(N):\n",
    "        e = 0.1\n",
    "        Qs = sess.run(Qpred, feed_dict = {X:cache.state})\n",
    "        \n",
    "        if np.random.rand(1) < e:\n",
    "            a = choice(np.array([1]*number_of_video), cache_size)  # 액션 정하기\n",
    "        else:\n",
    "            a = choice(Qs[0], cache_size)\n",
    "        \n",
    "        reward = cache.step(a)  # 액션 수행\n",
    "        Qs[0] = reward + dis * Qs[0]\n",
    "        sess.run(train, feed_dict = {X:cache.state, Y:Qs})  # 업데이트 된 것으로 학습 시키기\n",
    "        \n",
    "        train_r += sum(reward[0])\n",
    "        train_hit.append(train_r/(i+1))\n",
    "    \n",
    "    for _ in range(1000):\n",
    "        a = choice(Qs[0], cache_size)\n",
    "        reward = cache.step(a)\n",
    "        test_r += sum(reward[0])\n",
    "    test_r /= 1000\n",
    "\n",
    "max_list = []\n",
    "for _ in range(cache_size):\n",
    "    max_list.append(np.argmax(Qs[0]))\n",
    "    Qs[0][np.argmax(Qs[0])] = np.min(Qs[0])\n",
    "max_list.sort()\n",
    "    \n",
    "plt.plot(t,train_hit,'r')\n",
    "plt.show()\n",
    "print('Final caching list :', max_list)\n",
    "print('Test hit rate :', test_r)"
   ]
  },
  {
   "cell_type": "markdown",
   "metadata": {},
   "source": [
    "# Only one cache replacement"
   ]
  },
  {
   "cell_type": "markdown",
   "metadata": {},
   "source": [
    "# RL"
   ]
  },
  {
   "cell_type": "code",
   "execution_count": 1,
   "metadata": {},
   "outputs": [],
   "source": [
    "M = 10\n",
    "N = 50\n",
    "number_of_video = 20\n",
    "number_of_client = 1\n",
    "cache_size = 3"
   ]
  },
  {
   "cell_type": "code",
   "execution_count": 2,
   "metadata": {},
   "outputs": [],
   "source": [
    "import numpy as np\n",
    "import tensorflow as tf\n",
    "import matplotlib.pyplot as plt\n",
    "\n",
    "def zipf(VN, N, P, n, a=1):\n",
    "    p = np.array([1/(i**a) for i in range(1,VN+1)])\n",
    "    p = p / sum(p)\n",
    "    C = np.zeros((N, VN))\n",
    "    for i in range(N):\n",
    "        c = np.random.choice([i for i in range(VN)], n, False, p)\n",
    "        for c in c:\n",
    "            C[i][P[i][c]] = 1\n",
    "    return np.array(C)\n",
    "\n",
    "def choice(q, cs):\n",
    "    N, VN = q.shape\n",
    "    C = np.zeros((N, VN))\n",
    "    for i in range(N):\n",
    "        p = q[i] / sum(q[i])\n",
    "        c = C[i]\n",
    "        while sum(c) < cs:\n",
    "            m = np.amax(p)\n",
    "            idx = np.random.choice(np.where(p == m)[0])\n",
    "            if c[idx] == 0:\n",
    "                c[idx] = 1\n",
    "                p[idx] = min(p)\n",
    "    return C\n",
    "\n",
    "class cache_env:\n",
    "    def __init__(self, VN, N, P, cs, a=1):\n",
    "        self.VN = VN\n",
    "        self.N = N\n",
    "        self.cs = cs\n",
    "        self.a = a\n",
    "        self.P = P\n",
    "        self.state = choice(np.ones((N, VN)), self.cs)\n",
    "        self.request = zipf(self.VN, self.N, self.P, 1, self.a)\n",
    "    \n",
    "    def action(self, a):\n",
    "        for i in range(len(a)):\n",
    "            idx = np.where(self.state[i]==1)[0]\n",
    "            try:\n",
    "                self.state[i][idx[np.where(a[i]==1)[0][0]]] = 0\n",
    "            except:\n",
    "                continue\n",
    "            self.state[i] += self.request[i]\n",
    "    \n",
    "    def step(self, cache_action):\n",
    "        self.action(cache_action)\n",
    "        self.request = zipf(self.VN, self.N, self.P, 1, self.a)\n",
    "        reward = np.zeros((self.N,1))\n",
    "        for i in range(self.N):\n",
    "            while sum(self.state[i] * self.request[i]) == 1:\n",
    "                self.request[i] = zipf(self.VN, 1, self.P, 1, self.a)[0]\n",
    "                reward[i] += 1\n",
    "        return reward"
   ]
  },
  {
   "cell_type": "code",
   "execution_count": 3,
   "metadata": {},
   "outputs": [
    {
     "data": {
      "image/png": "[encoded data removed]",
      "text/plain": [
       "<Figure size 432x288 with 1 Axes>"
      ]
     },
     "metadata": {
      "needs_background": "light"
     },
     "output_type": "display_data"
    }
   ],
   "source": [
    "train_hit_M = np.zeros(N)\n",
    "for _ in range(M):\n",
    "    action_state = cache_size + 1\n",
    "    # P = np.array([np.random.permutation([i for i in range(number_of_video)]) for _ in range(number_of_client)]) # Random Preference\n",
    "    P = np.array([np.array([i for i in range(number_of_video)]) for _ in range(number_of_client)])\n",
    "    cache = cache_env(number_of_video, number_of_client, P, cache_size, 2)\n",
    "\n",
    "    learning_rate = 0.01\n",
    "    dis = 0.9\n",
    "\n",
    "    X = tf.placeholder(shape=[number_of_client, number_of_video * 2], dtype = tf.float32)\n",
    "    W = tf.Variable(tf.random_uniform([number_of_video * 2, action_state], 0, 0.01))\n",
    "\n",
    "    Qpred = tf.matmul(X, W)\n",
    "    Y = tf.placeholder(shape=[number_of_client, action_state], dtype = tf.float32)\n",
    "    loss = tf.reduce_sum(tf.square(Y - Qpred))\n",
    "\n",
    "    train = tf.train.GradientDescentOptimizer(learning_rate = learning_rate).minimize(loss)\n",
    "\n",
    "    t = [n for n in range(N)]\n",
    "    train_r = 0\n",
    "    train_count = 0\n",
    "    train_hit = []\n",
    "\n",
    "    init = tf.global_variables_initializer()\n",
    "    with tf.Session() as sess:\n",
    "        sess.run(init)\n",
    "        for i in range(N):\n",
    "            e = 1/(i/10+1) + 0.01\n",
    "            Qs = sess.run(Qpred, feed_dict = {X:np.hstack((cache.request,cache.state))})\n",
    "\n",
    "            if np.random.rand(1) < e:\n",
    "                a = np.identity(action_state)[np.random.choice(range(action_state), number_of_client)]  # 액션 정하기\n",
    "            else:\n",
    "                a = np.identity(action_state)[np.argmax(Qs, 1)]    \n",
    "\n",
    "            reward = a * cache.step(a)  # 액션 수행\n",
    "            Qs1 = sess.run(Qpred, feed_dict = {X:np.hstack((cache.request,cache.state))})\n",
    "            Qs = reward + dis * np.max(Qs1) * np.identity(action_state)[np.argmax(Qs1)]\n",
    "            sess.run(train, feed_dict = {X:np.hstack((cache.request,cache.state)), Y:Qs})  # 업데이트 된 것으로 학습 시키기\n",
    "\n",
    "            train_r += np.sum(reward) / number_of_client\n",
    "            train_count += np.sum(reward) / number_of_client + number_of_client\n",
    "            train_hit.append(train_r/train_count)\n",
    "        train_hit_M += np.array(train_hit)\n",
    "\n",
    "plt.plot(t,train_hit_M / M,'r')\n",
    "plt.show()"
   ]
  },
  {
   "cell_type": "markdown",
   "metadata": {},
   "source": [
    "# FIFO"
   ]
  },
  {
   "cell_type": "code",
   "execution_count": 12,
   "metadata": {},
   "outputs": [],
   "source": [
    "import numpy as np\n",
    "import tensorflow as tf\n",
    "import matplotlib.pyplot as plt\n",
    "\n",
    "def make_list(n):\n",
    "    l = [[]]\n",
    "    for _ in range(n-1):\n",
    "        l += [[]]\n",
    "    return l\n",
    "\n",
    "def zipf(VN, N, P, n, a=1):\n",
    "    p = np.array([1/(i**a) for i in range(1,VN+1)])\n",
    "    p = p / sum(p)\n",
    "    C = make_list(N)\n",
    "    for i in range(N):\n",
    "        c = np.random.choice([i for i in range(VN)], n, False, p)\n",
    "        for c in c:\n",
    "            C[i].append(P[i][c])\n",
    "    return list(C)\n",
    "\n",
    "def choice(q, cs):\n",
    "    N, VN = q.shape\n",
    "    C = make_list(N)\n",
    "    for i in range(N):\n",
    "        p = q[i] / sum(q[i])\n",
    "        c = C[i]\n",
    "        while len(c) < cs:\n",
    "            m = np.amax(p)\n",
    "            idx = np.random.choice(np.where(p == m)[0])\n",
    "            c.append(idx)\n",
    "            p[idx] = min(p)\n",
    "    return list(C)\n",
    "\n",
    "class cache_env:\n",
    "    def __init__(self, VN, N, P, cs, a=1):\n",
    "        self.VN = VN\n",
    "        self.N = N\n",
    "        self.cs = cs\n",
    "        self.a = a\n",
    "        self.P = P\n",
    "        self.state = make_list(N)\n",
    "        self.request = zipf(self.VN, self.N, self.P, 1, self.a)\n",
    "    \n",
    "    def step(self):\n",
    "        self.request = zipf(self.VN, self.N, self.P, 1, self.a)\n",
    "        reward = np.zeros((self.N,1))\n",
    "        for i in range(self.N):\n",
    "            while self.request[i][0] in self.state[i]:\n",
    "                self.request[i] = zipf(self.VN, 1, self.P, 1, self.a)[0]\n",
    "                reward[i] += 1\n",
    "        self.replacement()\n",
    "        return np.sum(reward)\n",
    "    \n",
    "    def replacement(self):\n",
    "        for i in range(self.N):\n",
    "            if len(self.state[i]) < self.cs:\n",
    "                self.state[i].append(self.request[i][0])\n",
    "            else:\n",
    "                self.state[i] = self.state[i][1:] + self.request[i]"
   ]
  },
  {
   "cell_type": "code",
   "execution_count": 13,
   "metadata": {},
   "outputs": [
    {
     "data": {
      "image/png": "[encoded data removed]",
      "text/plain": [
       "<Figure size 432x288 with 1 Axes>"
      ]
     },
     "metadata": {
      "needs_background": "light"
     },
     "output_type": "display_data"
    }
   ],
   "source": [
    "FIFO_hit_M = np.zeros(N)\n",
    "for _ in range(M):\n",
    "    P = np.array([np.random.permutation([i for i in range(number_of_video)]) for _ in range(number_of_client)]) # Random Preference\n",
    "    # P = np.array([np.array([i for i in range(number_of_video)]) for _ in range(number_of_client)])\n",
    "    cache = cache_env(number_of_video, number_of_client, P, cache_size, 2)\n",
    "\n",
    "    t = [n for n in range(N)]\n",
    "    FIFO_r = 0\n",
    "    FIFO_count = 0\n",
    "    FIFO_hit = []\n",
    "\n",
    "    for i in range(N):\n",
    "        reward = cache.step()\n",
    "        FIFO_r += reward\n",
    "        FIFO_count += reward + number_of_client\n",
    "        FIFO_hit.append(FIFO_r / FIFO_count)\n",
    "    FIFO_hit_M += np.array(FIFO_hit)\n",
    "\n",
    "plt.plot(t,FIFO_hit_M / M,'b')\n",
    "plt.show()"
   ]
  },
  {
   "cell_type": "markdown",
   "metadata": {},
   "source": [
    "# LFU"
   ]
  },
  {
   "cell_type": "code",
   "execution_count": 14,
   "metadata": {},
   "outputs": [],
   "source": [
    "class cache_env:\n",
    "    def __init__(self, VN, N, P, cs, a=1):\n",
    "        self.VN = VN\n",
    "        self.N = N\n",
    "        self.cs = cs\n",
    "        self.a = a\n",
    "        self.P = P\n",
    "        self.state = make_list(N)\n",
    "        self.request = zipf(self.VN, self.N, self.P, 1, self.a)\n",
    "        self.rq_count = [0] * VN\n",
    "    \n",
    "    def step(self):\n",
    "        self.request = zipf(self.VN, self.N, self.P, 1, self.a)\n",
    "        reward = np.zeros((self.N,1))\n",
    "        for i in range(self.N):\n",
    "            while self.request[i][0] in self.state[i]:\n",
    "                self.request[i] = zipf(self.VN, 1, self.P, 1, self.a)[0]\n",
    "                self.rq_count[self.request[i][0]] += 1\n",
    "                reward[i] += 1\n",
    "        self.replacement()\n",
    "        return np.sum(reward)\n",
    "    \n",
    "    def replacement(self):\n",
    "        def count(i):\n",
    "            return self.rq_count[i]\n",
    "        for i in range(self.N):\n",
    "            if len(self.state[i]) < self.cs:\n",
    "                self.state[i].append(self.request[i][0])\n",
    "            else:\n",
    "                count_l = list(map(count, self.state[i]))\n",
    "                idx = np.where(np.array(count_l) == min(count_l))[0]\n",
    "                self.state[i].remove(self.state[i][idx[0]])\n",
    "                self.state[i].append(self.request[i][0])"
   ]
  },
  {
   "cell_type": "code",
   "execution_count": 15,
   "metadata": {},
   "outputs": [
    {
     "data": {
      "image/png": "[encoded data removed]",
      "text/plain": [
       "<Figure size 432x288 with 1 Axes>"
      ]
     },
     "metadata": {
      "needs_background": "light"
     },
     "output_type": "display_data"
    }
   ],
   "source": [
    "LFU_hit_M = np.zeros(N)\n",
    "for _ in range(M):\n",
    "    P = np.array([np.random.permutation([i for i in range(number_of_video)]) for _ in range(number_of_client)]) # Random Preference\n",
    "    # P = np.array([np.array([i for i in range(number_of_video)]) for _ in range(number_of_client)])\n",
    "    cache = cache_env(number_of_video, number_of_client, P, cache_size, 2)\n",
    "\n",
    "    t = [n for n in range(N)]\n",
    "    LFU_r = 0\n",
    "    LFU_count = 0\n",
    "    LFU_hit = []\n",
    "\n",
    "    for i in range(N):\n",
    "        reward = cache.step()\n",
    "        LFU_r += reward\n",
    "        LFU_count += reward + number_of_client\n",
    "        LFU_hit.append(LFU_r / LFU_count)\n",
    "    LFU_hit_M += np.array(LFU_hit)\n",
    "        \n",
    "plt.plot(t,LFU_hit_M / M,'k')\n",
    "plt.show()"
   ]
  },
  {
   "cell_type": "markdown",
   "metadata": {},
   "source": [
    "# LRU"
   ]
  },
  {
   "cell_type": "code",
   "execution_count": 16,
   "metadata": {},
   "outputs": [],
   "source": [
    "class cache_env:\n",
    "    def __init__(self, VN, N, P, cs, a=1):\n",
    "        self.VN = VN\n",
    "        self.N = N\n",
    "        self.cs = cs\n",
    "        self.a = a\n",
    "        self.P = P\n",
    "        self.state = make_list(N)\n",
    "        self.request = zipf(self.VN, self.N, self.P, 1, self.a)\n",
    "    \n",
    "    def step(self):\n",
    "        self.request = zipf(self.VN, self.N, self.P, 1, self.a)\n",
    "        reward = np.zeros((self.N,1))\n",
    "        for i in range(self.N):\n",
    "            while self.request[i][0] in self.state[i]:\n",
    "                self.replacement()\n",
    "                self.request[i] = zipf(self.VN, 1, self.P, 1, self.a)[0]\n",
    "                reward[i] += 1\n",
    "        self.replacement()\n",
    "        return np.sum(reward)\n",
    "    \n",
    "    def replacement(self):\n",
    "        for i in range(self.N):\n",
    "            if self.request[i] in self.state[i]:\n",
    "                if len(self.state[i]) < self.cs:\n",
    "                    continue\n",
    "                else:\n",
    "                    self.state[i].remove(self.request[i])\n",
    "                    self.state[i].append(self.request[i][0])\n",
    "            else:\n",
    "                if len(self.state[i]) < self.cs:\n",
    "                    self.state[i].append(self.request[i][0])\n",
    "                else:\n",
    "                    self.state[i] = self.state[i][1:] + self.request[i]"
   ]
  },
  {
   "cell_type": "code",
   "execution_count": 17,
   "metadata": {},
   "outputs": [
    {
     "data": {
      "image/png": "[encoded data removed]",
      "text/plain": [
       "<Figure size 432x288 with 1 Axes>"
      ]
     },
     "metadata": {
      "needs_background": "light"
     },
     "output_type": "display_data"
    }
   ],
   "source": [
    "LRU_hit_M = np.zeros(N)\n",
    "for _ in range(M):\n",
    "    P = np.array([np.random.permutation([i for i in range(number_of_video)]) for _ in range(number_of_client)]) # Random Preference\n",
    "    # P = np.array([np.array([i for i in range(number_of_video)]) for _ in range(number_of_client)])\n",
    "    cache = cache_env(number_of_video, number_of_client, P, cache_size, 2)\n",
    "\n",
    "    t = [n for n in range(N)]\n",
    "    LRU_r = 0\n",
    "    LRU_count = 0\n",
    "    LRU_hit = []\n",
    "\n",
    "    for i in range(N):\n",
    "        reward = cache.step()\n",
    "        LRU_r += reward\n",
    "        LRU_count += reward + number_of_client\n",
    "        LRU_hit.append(LRU_r / LRU_count)\n",
    "    LRU_hit_M += np.array(LRU_hit)\n",
    "\n",
    "plt.plot(t,LRU_hit_M / M,'g')\n",
    "plt.show()"
   ]
  },
  {
   "cell_type": "code",
   "execution_count": 18,
   "metadata": {},
   "outputs": [
    {
     "data": {
      "image/png": "[encoded data removed]",
      "text/plain": [
       "<Figure size 432x288 with 1 Axes>"
      ]
     },
     "metadata": {
      "needs_background": "light"
     },
     "output_type": "display_data"
    }
   ],
   "source": [
    "plt.plot(t,train_hit_M / M,'red')\n",
    "plt.plot(t,FIFO_hit_M / M,'blue')\n",
    "plt.plot(t,LFU_hit_M / M,'black')\n",
    "plt.plot(t,LRU_hit_M / M,'green')\n",
    "plt.legend(['RL', 'FIFO', 'LFU', 'LRU'])\n",
    "plt.show()"
   ]
  },
  {
   "cell_type": "code",
   "execution_count": null,
   "metadata": {},
   "outputs": [],
   "source": []
  }
 ],
 "metadata": {
  "kernelspec": {
   "display_name": "Python 3",
   "language": "python",
   "name": "python3"
  },
  "language_info": {
   "codemirror_mode": {
    "name": "ipython",
    "version": 3
   },
   "file_extension": ".py",
   "mimetype": "text/x-python",
   "name": "python",
   "nbconvert_exporter": "python",
   "pygments_lexer": "ipython3",
   "version": "3.7.4"
  }
 },
 "nbformat": 4,
 "nbformat_minor": 2
}
