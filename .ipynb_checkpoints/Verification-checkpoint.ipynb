{
 "cells": [
  {
   "cell_type": "code",
   "execution_count": 8,
   "metadata": {},
   "outputs": [],
   "source": [
    "import numpy as np\n",
    "from Grouping import *\n",
    "import matplotlib.pyplot as plt\n",
    "\n",
    "N = 1000\n",
    "VN = 20\n",
    "CN = 10\n",
    "CS = 5\n",
    "a = 1"
   ]
  },
  {
   "cell_type": "code",
   "execution_count": null,
   "metadata": {},
   "outputs": [],
   "source": [
    "def zipf(VN, CN, a=1):\n",
    "    P = np.array([1/(i+1)**a for i in range(VN)])\n",
    "    P /= sum(P)\n",
    "    rq = make_list(CN)\n",
    "    for n in range(CN):\n",
    "        rq[n] = list(np.random.choice(list(range(VN)), 1, False, P))\n",
    "    return list(rq)\n",
    "\n",
    "def make_list(n):\n",
    "    l = [[]]\n",
    "    for _ in range(n-1):\n",
    "        l += [[]]\n",
    "    return l\n",
    "\n",
    "connection = 0\n",
    "Xconnection = 0\n",
    "cache = make_list(CN)\n",
    "\n",
    "con_list = []\n",
    "con_Xlist = []\n",
    "\n",
    "for i in range(N):\n",
    "    request = zipf(VN, CN, a)\n",
    "    \n",
    "    cn, rq, ch = Local(request, cache)\n",
    "    cn, rq, ch = BCG(list(range(VN)), cn, rq, ch)\n",
    "    connection += len(cn)\n",
    "    cn, rq, ch = XBCG(list(range(VN)), cn, rq, ch)\n",
    "    Xconnection += len(cn)\n",
    "    \n",
    "    con_list.append(connection/(i+1)/CN)\n",
    "    con_Xlist.append(Xconnection/(i+1)/CN)\n",
    "    \n",
    "    for n in range(CN):\n",
    "        if request[n][0] in cache[n]:\n",
    "            cache[n].remove(request[n][0])\n",
    "            cache[n].append(request[n][0])\n",
    "        else:\n",
    "            if len(cache[n]) < CS:\n",
    "                cache[n].append(request[n][0])\n",
    "            else:\n",
    "                cache[n] = cache[n][1:] + request[n]\n",
    "\n",
    "t = list(range(N))\n",
    "\n",
    "plt.plot(t, con_list, 'b')\n",
    "plt.plot(t, con_Xlist, 'r')\n",
    "plt.show()\n",
    "print(con_list[N-1])\n",
    "print(con_Xlist[N-1])\n",
    "print(con_list[N-1]/con_Xlist[N-1]-1, '%')"
   ]
  },
  {
   "cell_type": "code",
   "execution_count": 10,
   "metadata": {},
   "outputs": [
    {
     "data": {
      "image/png": "[encoded data removed]",
      "text/plain": [
       "<Figure size 432x288 with 1 Axes>"
      ]
     },
     "metadata": {
      "needs_background": "light"
     },
     "output_type": "display_data"
    },
    {
     "name": "stdout",
     "output_type": "stream",
     "text": [
      "0.2685205661211853\n",
      "0.229046881910659\n",
      "0.172338884866039 %\n"
     ]
    }
   ],
   "source": [
    "def zipf(VN, CN, a=1):\n",
    "    P = np.array([1/(i+1)**a for i in range(VN)])\n",
    "    P /= sum(P)\n",
    "    rq = make_list(CN)\n",
    "    for n in range(CN):\n",
    "        rq[n] = list(np.random.choice(list(range(VN)), 1, False, P))\n",
    "    return list(rq)\n",
    "\n",
    "def make_list(n):\n",
    "    l = [[]]\n",
    "    for _ in range(n-1):\n",
    "        l += [[]]\n",
    "    return l\n",
    "\n",
    "count = 0\n",
    "connection = 0\n",
    "Xconnection = 0\n",
    "cache = make_list(CN)\n",
    "\n",
    "con_list = []\n",
    "con_Xlist = []\n",
    "\n",
    "request = zipf(VN, CN, a)\n",
    "for i in range(N):\n",
    "    for n in range(CN):\n",
    "        if request[n][0] in cache[n]:\n",
    "            cache[n].remove(request[n][0])\n",
    "            cache[n].append(request[n][0])\n",
    "        else:\n",
    "            if len(cache[n]) < CS:\n",
    "                cache[n].append(request[n][0])\n",
    "            else:\n",
    "                cache[n] = cache[n][1:] + request[n]\n",
    "    \n",
    "    request = zipf(VN, CN, a)\n",
    "    cn, rq, ch = Local(request, cache)\n",
    "    cn, rq, ch = BCG(list(range(VN)), cn, rq, ch)\n",
    "    connection += len(cn)\n",
    "    cn, rq, ch = XBCG(list(range(VN)), cn, rq, ch)\n",
    "    Xconnection += len(cn)\n",
    "    \n",
    "    for n in range(CN):\n",
    "        while request[n][0] in cache[n]:\n",
    "            request[n] = zipf(VN, 1, a)[0]\n",
    "            count += 1\n",
    "    count += CN\n",
    "    \n",
    "    con_list.append(connection/count)\n",
    "    con_Xlist.append(Xconnection/count)    \n",
    "\n",
    "t = list(range(N))\n",
    "\n",
    "plt.plot(t, con_list, 'b')\n",
    "plt.plot(t, con_Xlist, 'r')\n",
    "plt.show()\n",
    "print(con_list[N-1])\n",
    "print(con_Xlist[N-1])\n",
    "print(con_list[N-1]/con_Xlist[N-1]-1, '%')"
   ]
  },
  {
   "cell_type": "code",
   "execution_count": null,
   "metadata": {},
   "outputs": [],
   "source": []
  }
 ],
 "metadata": {
  "kernelspec": {
   "display_name": "Python 3",
   "language": "python",
   "name": "python3"
  },
  "language_info": {
   "codemirror_mode": {
    "name": "ipython",
    "version": 3
   },
   "file_extension": ".py",
   "mimetype": "text/x-python",
   "name": "python",
   "nbconvert_exporter": "python",
   "pygments_lexer": "ipython3",
   "version": "3.7.4"
  }
 },
 "nbformat": 4,
 "nbformat_minor": 2
}
